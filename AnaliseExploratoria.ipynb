{
 "cells": [
  {
   "cell_type": "code",
   "execution_count": 1,
   "id": "7a74630a",
   "metadata": {},
   "outputs": [],
   "source": [
    "import pandas as pd\n",
    "import matplotlib.pyplot as plt\n",
    "import seaborn as sns"
   ]
  },
  {
   "cell_type": "code",
   "execution_count": 4,
   "id": "dd73acab",
   "metadata": {},
   "outputs": [
    {
     "name": "stdout",
     "output_type": "stream",
     "text": [
      "NU_INSCRICAO;NU_ANO;TP_FAIXA_ETARIA;TP_SEXO;TP_ESTADO_CIVIL;TP_COR_RACA;TP_NACIONALIDADE;TP_ST_CONCLUSAO;TP_ANO_CONCLUIU;TP_ESCOLA;TP_ENSINO;IN_TREINEIRO;CO_MUNICIPIO_ESC;NO_MUNICIPIO_ESC;CO_UF_ESC;SG_UF_ESC;TP_DEPENDENCIA_ADM_ESC;TP_LOCALIZACAO_ESC;TP_SIT_FUNC_ESC;CO_MUNICIPIO_PROVA;NO_MUNICIPIO_PROVA;CO_UF_PROVA;SG_UF_PROVA;TP_PRESENCA_CN;TP_PRESENCA_CH;TP_PRESENCA_LC;TP_PRESENCA_MT;CO_PROVA_CN;CO_PROVA_CH;CO_PROVA_LC;CO_PROVA_MT;NU_NOTA_CN;NU_NOTA_CH;NU_NOTA_LC;NU_NOTA_MT;TX_RESPOSTAS_CN;TX_RESPOSTAS_CH;TX_RESPOSTAS_LC;TX_RESPOSTAS_MT;TP_LINGUA;TX_GABARITO_CN;TX_GABARITO_CH;TX_GABARITO_LC;TX_GABARITO_MT;TP_STATUS_REDACAO;NU_NOTA_COMP1;NU_NOTA_COMP2;NU_NOTA_COMP3;NU_NOTA_COMP4;NU_NOTA_COMP5;NU_NOTA_REDACAO;Q001;Q002;Q003;Q004;Q005;Q006;Q007;Q008;Q009;Q010;Q011;Q012;Q013;Q014;Q015;Q016;Q017;Q018;Q019;Q020;Q021;Q022;Q023;Q024;Q025\n",
      "\n"
     ]
    }
   ],
   "source": [
    "# Visualizar encoding, delimitador, ...\n",
    "with open(\"Dados/MICRODADOS_ENEM_2021.csv\") as file:\n",
    "    print(file.readline())"
   ]
  },
  {
   "cell_type": "code",
   "execution_count": 6,
   "id": "5cb784c9",
   "metadata": {},
   "outputs": [],
   "source": [
    "df = pd.read_csv(\"Dados/MICRODADOS_ENEM_2021.csv\", \n",
    "                 encoding='cp1252',\n",
    "                delimiter=\";\",\n",
    "                nrows=1000000)"
   ]
  },
  {
   "cell_type": "code",
   "execution_count": 8,
   "id": "48b6d9b5",
   "metadata": {},
   "outputs": [
    {
     "name": "stdout",
     "output_type": "stream",
     "text": [
      "<class 'pandas.core.frame.DataFrame'>\n",
      "RangeIndex: 1000000 entries, 0 to 999999\n",
      "Data columns (total 76 columns):\n",
      " #   Column                  Non-Null Count    Dtype  \n",
      "---  ------                  --------------    -----  \n",
      " 0   NU_INSCRICAO            1000000 non-null  int64  \n",
      " 1   NU_ANO                  1000000 non-null  int64  \n",
      " 2   TP_FAIXA_ETARIA         1000000 non-null  int64  \n",
      " 3   TP_SEXO                 1000000 non-null  object \n",
      " 4   TP_ESTADO_CIVIL         1000000 non-null  int64  \n",
      " 5   TP_COR_RACA             1000000 non-null  int64  \n",
      " 6   TP_NACIONALIDADE        1000000 non-null  int64  \n",
      " 7   TP_ST_CONCLUSAO         1000000 non-null  int64  \n",
      " 8   TP_ANO_CONCLUIU         1000000 non-null  int64  \n",
      " 9   TP_ESCOLA               1000000 non-null  int64  \n",
      " 10  TP_ENSINO               426460 non-null   float64\n",
      " 11  IN_TREINEIRO            1000000 non-null  int64  \n",
      " 12  CO_MUNICIPIO_ESC        293025 non-null   float64\n",
      " 13  NO_MUNICIPIO_ESC        293025 non-null   object \n",
      " 14  CO_UF_ESC               293025 non-null   float64\n",
      " 15  SG_UF_ESC               293025 non-null   object \n",
      " 16  TP_DEPENDENCIA_ADM_ESC  293025 non-null   float64\n",
      " 17  TP_LOCALIZACAO_ESC      293025 non-null   float64\n",
      " 18  TP_SIT_FUNC_ESC         293025 non-null   float64\n",
      " 19  CO_MUNICIPIO_PROVA      1000000 non-null  int64  \n",
      " 20  NO_MUNICIPIO_PROVA      1000000 non-null  object \n",
      " 21  CO_UF_PROVA             1000000 non-null  int64  \n",
      " 22  SG_UF_PROVA             1000000 non-null  object \n",
      " 23  TP_PRESENCA_CN          1000000 non-null  int64  \n",
      " 24  TP_PRESENCA_CH          1000000 non-null  int64  \n",
      " 25  TP_PRESENCA_LC          1000000 non-null  int64  \n",
      " 26  TP_PRESENCA_MT          1000000 non-null  int64  \n",
      " 27  CO_PROVA_CN             745279 non-null   float64\n",
      " 28  CO_PROVA_CH             781543 non-null   float64\n",
      " 29  CO_PROVA_LC             781543 non-null   float64\n",
      " 30  CO_PROVA_MT             745279 non-null   float64\n",
      " 31  NU_NOTA_CN              745279 non-null   float64\n",
      " 32  NU_NOTA_CH              781543 non-null   float64\n",
      " 33  NU_NOTA_LC              781543 non-null   float64\n",
      " 34  NU_NOTA_MT              745279 non-null   float64\n",
      " 35  TX_RESPOSTAS_CN         745279 non-null   object \n",
      " 36  TX_RESPOSTAS_CH         781543 non-null   object \n",
      " 37  TX_RESPOSTAS_LC         781543 non-null   object \n",
      " 38  TX_RESPOSTAS_MT         745279 non-null   object \n",
      " 39  TP_LINGUA               1000000 non-null  int64  \n",
      " 40  TX_GABARITO_CN          745279 non-null   object \n",
      " 41  TX_GABARITO_CH          781543 non-null   object \n",
      " 42  TX_GABARITO_LC          781543 non-null   object \n",
      " 43  TX_GABARITO_MT          745279 non-null   object \n",
      " 44  TP_STATUS_REDACAO       781543 non-null   float64\n",
      " 45  NU_NOTA_COMP1           781543 non-null   float64\n",
      " 46  NU_NOTA_COMP2           781543 non-null   float64\n",
      " 47  NU_NOTA_COMP3           781543 non-null   float64\n",
      " 48  NU_NOTA_COMP4           781543 non-null   float64\n",
      " 49  NU_NOTA_COMP5           781543 non-null   float64\n",
      " 50  NU_NOTA_REDACAO         781543 non-null   float64\n",
      " 51  Q001                    999999 non-null   object \n",
      " 52  Q002                    999999 non-null   object \n",
      " 53  Q003                    999999 non-null   object \n",
      " 54  Q004                    999999 non-null   object \n",
      " 55  Q005                    999999 non-null   float64\n",
      " 56  Q006                    999999 non-null   object \n",
      " 57  Q007                    999999 non-null   object \n",
      " 58  Q008                    999999 non-null   object \n",
      " 59  Q009                    999999 non-null   object \n",
      " 60  Q010                    999999 non-null   object \n",
      " 61  Q011                    999999 non-null   object \n",
      " 62  Q012                    999999 non-null   object \n",
      " 63  Q013                    999999 non-null   object \n",
      " 64  Q014                    999999 non-null   object \n",
      " 65  Q015                    999999 non-null   object \n",
      " 66  Q016                    999999 non-null   object \n",
      " 67  Q017                    999999 non-null   object \n",
      " 68  Q018                    999999 non-null   object \n",
      " 69  Q019                    999999 non-null   object \n",
      " 70  Q020                    999999 non-null   object \n",
      " 71  Q021                    999999 non-null   object \n",
      " 72  Q022                    999999 non-null   object \n",
      " 73  Q023                    999999 non-null   object \n",
      " 74  Q024                    999999 non-null   object \n",
      " 75  Q025                    999999 non-null   object \n",
      "dtypes: float64(22), int64(17), object(37)\n",
      "memory usage: 579.8+ MB\n"
     ]
    }
   ],
   "source": [
    "df.info()"
   ]
  },
  {
   "cell_type": "code",
   "execution_count": 10,
   "id": "fd5e271c",
   "metadata": {},
   "outputs": [
    {
     "data": {
      "text/html": [
       "<div>\n",
       "<style scoped>\n",
       "    .dataframe tbody tr th:only-of-type {\n",
       "        vertical-align: middle;\n",
       "    }\n",
       "\n",
       "    .dataframe tbody tr th {\n",
       "        vertical-align: top;\n",
       "    }\n",
       "\n",
       "    .dataframe thead th {\n",
       "        text-align: right;\n",
       "    }\n",
       "</style>\n",
       "<table border=\"1\" class=\"dataframe\">\n",
       "  <thead>\n",
       "    <tr style=\"text-align: right;\">\n",
       "      <th></th>\n",
       "      <th>NU_NOTA_CN</th>\n",
       "      <th>NU_NOTA_CH</th>\n",
       "      <th>NU_NOTA_LC</th>\n",
       "      <th>NU_NOTA_MT</th>\n",
       "      <th>NU_NOTA_REDACAO</th>\n",
       "    </tr>\n",
       "  </thead>\n",
       "  <tbody>\n",
       "    <tr>\n",
       "      <th>count</th>\n",
       "      <td>745279.000000</td>\n",
       "      <td>781543.000000</td>\n",
       "      <td>781543.000000</td>\n",
       "      <td>745279.000000</td>\n",
       "      <td>781543.000000</td>\n",
       "    </tr>\n",
       "    <tr>\n",
       "      <th>mean</th>\n",
       "      <td>487.988832</td>\n",
       "      <td>518.547912</td>\n",
       "      <td>500.673120</td>\n",
       "      <td>530.683948</td>\n",
       "      <td>630.155705</td>\n",
       "    </tr>\n",
       "    <tr>\n",
       "      <th>std</th>\n",
       "      <td>80.732721</td>\n",
       "      <td>94.831908</td>\n",
       "      <td>78.799472</td>\n",
       "      <td>109.768162</td>\n",
       "      <td>190.976571</td>\n",
       "    </tr>\n",
       "    <tr>\n",
       "      <th>min</th>\n",
       "      <td>0.000000</td>\n",
       "      <td>0.000000</td>\n",
       "      <td>0.000000</td>\n",
       "      <td>0.000000</td>\n",
       "      <td>0.000000</td>\n",
       "    </tr>\n",
       "    <tr>\n",
       "      <th>25%</th>\n",
       "      <td>427.500000</td>\n",
       "      <td>444.800000</td>\n",
       "      <td>445.800000</td>\n",
       "      <td>441.800000</td>\n",
       "      <td>540.000000</td>\n",
       "    </tr>\n",
       "    <tr>\n",
       "      <th>50%</th>\n",
       "      <td>476.300000</td>\n",
       "      <td>518.900000</td>\n",
       "      <td>502.900000</td>\n",
       "      <td>508.400000</td>\n",
       "      <td>620.000000</td>\n",
       "    </tr>\n",
       "    <tr>\n",
       "      <th>75%</th>\n",
       "      <td>539.900000</td>\n",
       "      <td>586.500000</td>\n",
       "      <td>556.000000</td>\n",
       "      <td>605.900000</td>\n",
       "      <td>760.000000</td>\n",
       "    </tr>\n",
       "    <tr>\n",
       "      <th>max</th>\n",
       "      <td>867.100000</td>\n",
       "      <td>846.900000</td>\n",
       "      <td>813.200000</td>\n",
       "      <td>953.100000</td>\n",
       "      <td>1000.000000</td>\n",
       "    </tr>\n",
       "  </tbody>\n",
       "</table>\n",
       "</div>"
      ],
      "text/plain": [
       "          NU_NOTA_CN     NU_NOTA_CH     NU_NOTA_LC     NU_NOTA_MT  \\\n",
       "count  745279.000000  781543.000000  781543.000000  745279.000000   \n",
       "mean      487.988832     518.547912     500.673120     530.683948   \n",
       "std        80.732721      94.831908      78.799472     109.768162   \n",
       "min         0.000000       0.000000       0.000000       0.000000   \n",
       "25%       427.500000     444.800000     445.800000     441.800000   \n",
       "50%       476.300000     518.900000     502.900000     508.400000   \n",
       "75%       539.900000     586.500000     556.000000     605.900000   \n",
       "max       867.100000     846.900000     813.200000     953.100000   \n",
       "\n",
       "       NU_NOTA_REDACAO  \n",
       "count    781543.000000  \n",
       "mean        630.155705  \n",
       "std         190.976571  \n",
       "min           0.000000  \n",
       "25%         540.000000  \n",
       "50%         620.000000  \n",
       "75%         760.000000  \n",
       "max        1000.000000  "
      ]
     },
     "execution_count": 10,
     "metadata": {},
     "output_type": "execute_result"
    }
   ],
   "source": [
    "df[[\"NU_NOTA_CN\", \"NU_NOTA_CH\", \"NU_NOTA_LC\", \"NU_NOTA_MT\", \"NU_NOTA_REDACAO\"]].describe()"
   ]
  },
  {
   "cell_type": "code",
   "execution_count": 14,
   "id": "0ebd0de8",
   "metadata": {},
   "outputs": [
    {
     "data": {
      "text/plain": [
       "0.6633785981134168"
      ]
     },
     "execution_count": 14,
     "metadata": {},
     "output_type": "execute_result"
    }
   ],
   "source": [
    "p_CN = df[\"TP_PRESENCA_CN\"].sum() / len(df[\"TP_PRESENCA_CN\"])\n",
    "p_CN"
   ]
  },
  {
   "cell_type": "code",
   "execution_count": 66,
   "id": "b2a2b0df",
   "metadata": {},
   "outputs": [
    {
     "data": {
      "image/png": "[encoded data removed]",
      "text/plain": [
       "<Figure size 432x288 with 1 Axes>"
      ]
     },
     "metadata": {
      "needs_background": "light"
     },
     "output_type": "display_data"
    }
   ],
   "source": [
    "hist = sns.histplot(df[\"TP_FAIXA_ETARIA\"], binwidth=1);\n",
    "\n",
    "# Posição dos xticks vai ser o limite direito da barra \n",
    "# mais metade de seu comprimento\n",
    "xticks = [rec.get_x() + 0.5*hist.patches[0].get_width() for rec in list(hist.patches)]\n",
    "\n",
    "plt.xticks(xticks, labels=range(1, 20))\n",
    "plt.title(\"Distribuição da Faixa Etária\")\n",
    "plt.show()"
   ]
  },
  {
   "cell_type": "code",
   "execution_count": 118,
   "id": "11ff69c3",
   "metadata": {
    "scrolled": false
   },
   "outputs": [
    {
     "data": {
      "image/png": "[encoded data removed]",
      "text/plain": [
       "<Figure size 1080x576 with 4 Axes>"
      ]
     },
     "metadata": {
      "needs_background": "light"
     },
     "output_type": "display_data"
    }
   ],
   "source": [
    "fig, axs = plt.subplots(2, 2, layout=\"constrained\", figsize=(15,8))\n",
    "\n",
    "\n",
    "# ----------------------- Distribuição da Nacionalidade -----------------------\n",
    "sns.histplot(df.loc[df[\"TP_NACIONALIDADE\"]!=1, \"TP_NACIONALIDADE\"], ax=axs[0, 0]);\n",
    "axs[0, 0].title.set_text(\"Distribuição da Nacionalidade Sem Brasileiros Nascidos\")\n",
    "# ---------------------------------------------------------------------------\n",
    "\n",
    "\n",
    "# ----------------------- Distribuição da Cor -----------------------\n",
    "sns.histplot(df[\"TP_COR_RACA\"], ax=axs[0, 1], binwidth=1, bins=7);\n",
    "axs[0, 1].title.set_text(\"Distribuição da Cor\")\n",
    "# ---------------------------------------------------------------------------\n",
    "\n",
    "\n",
    "# ----------------------- Distribuição da Escola -----------------------\n",
    "sns.histplot(df[\"TP_ESCOLA\"], ax=axs[1, 0], binwidth=0.8);\n",
    "axs[1, 0].title.set_text(\"Distribuição da Escola\")\n",
    "# ---------------------------------------------------------------------------\n",
    "\n",
    "\n",
    "# ----------------------- Distribuição da Faixa Etária -----------------------\n",
    "hist = sns.histplot(df[\"TP_FAIXA_ETARIA\"], ax=axs[1, 1], binwidth=1);\n",
    "\n",
    "# Posição dos xticks vai ser o limite direito da barra \n",
    "# mais metade de seu comprimento\n",
    "xticks = [rec.get_x() + 0.5*hist.patches[0].get_width() for rec in list(hist.patches)]\n",
    "\n",
    "axs[1, 1].set_xticks(xticks, labels=range(1, 20))\n",
    "axs[1, 1].title.set_text(\"Distribuição da Faixa Etária\")\n",
    "# ---------------------------------------------------------------------------"
   ]
  },
  {
   "cell_type": "code",
   "execution_count": 80,
   "id": "1ca29628",
   "metadata": {},
   "outputs": [
    {
     "data": {
      "text/plain": [
       "696       20\n",
       "13595     20\n",
       "27874     20\n",
       "56882     20\n",
       "58937     20\n",
       "          ..\n",
       "959200    20\n",
       "959225    20\n",
       "972990    20\n",
       "979506    20\n",
       "984453    20\n",
       "Name: TP_FAIXA_ETARIA, Length: 82, dtype: int64"
      ]
     },
     "execution_count": 80,
     "metadata": {},
     "output_type": "execute_result"
    }
   ],
   "source": [
    "df.loc[df[\"TP_FAIXA_ETARIA\"]==20, \"TP_FAIXA_ETARIA\"]"
   ]
  },
  {
   "cell_type": "code",
   "execution_count": 30,
   "id": "4df2b6e1",
   "metadata": {
    "scrolled": true
   },
   "outputs": [
    {
     "data": {
      "text/plain": [
       "array(['MG', 'AL', 'SP', 'CE', 'RS', 'BA', 'GO', 'RN', 'PA', 'RJ', 'MT',\n",
       "       'PE', 'MA', 'RO', 'SE', 'PR', 'PB', 'PI', 'ES', 'DF', 'TO', 'AM',\n",
       "       'SC', 'AP', 'MS', 'RR', 'AC'], dtype=object)"
      ]
     },
     "execution_count": 30,
     "metadata": {},
     "output_type": "execute_result"
    }
   ],
   "source": [
    "df[\"SG_UF_PROVA\"].unique()"
   ]
  }
 ],
 "metadata": {
  "kernelspec": {
   "display_name": "Python 3",
   "language": "python",
   "name": "python3"
  },
  "language_info": {
   "codemirror_mode": {
    "name": "ipython",
    "version": 3
   },
   "file_extension": ".py",
   "mimetype": "text/x-python",
   "name": "python",
   "nbconvert_exporter": "python",
   "pygments_lexer": "ipython3",
   "version": "3.10.1"
  },
  "vscode": {
   "interpreter": {
    "hash": "62235d2a6b91292b3cbd049ce7a790b9656dd211fbfc8e00863c4e18f9242a69"
   }
  }
 },
 "nbformat": 4,
 "nbformat_minor": 5
}
